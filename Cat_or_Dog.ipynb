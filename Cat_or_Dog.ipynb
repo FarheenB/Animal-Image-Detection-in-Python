{
 "cells": [
  {
   "cell_type": "markdown",
   "metadata": {
    "colab_type": "text",
    "id": "3DR-eO17geWu"
   },
   "source": [
    "# Convolutional Neural Network"
   ]
  },
  {
   "cell_type": "markdown",
   "metadata": {
    "colab_type": "text",
    "id": "EMefrVPCg-60"
   },
   "source": [
    "### Importing the libraries"
   ]
  },
  {
   "cell_type": "code",
   "execution_count": 1,
   "metadata": {
    "colab": {
     "base_uri": "https://localhost:8080/",
     "height": 34
    },
    "colab_type": "code",
    "executionInfo": {
     "elapsed": 2561,
     "status": "ok",
     "timestamp": 1586435320041,
     "user": {
      "displayName": "Hadelin de Ponteves",
      "photoUrl": "https://lh3.googleusercontent.com/a-/AOh14GhEuXdT7eQweUmRPW8_laJuPggSK6hfvpl5a6WBaA=s64",
      "userId": "15047218817161520419"
     },
     "user_tz": -240
    },
    "id": "sCV30xyVhFbE",
    "outputId": "41e39496-ad7b-45be-8cb5-5ae492405174"
   },
   "outputs": [
    {
     "name": "stderr",
     "output_type": "stream",
     "text": [
      "Using TensorFlow backend.\n"
     ]
    }
   ],
   "source": [
    "import tensorflow as tf\n",
    "from keras.preprocessing.image import ImageDataGenerator\n",
    "import numpy as np"
   ]
  },
  {
   "cell_type": "code",
   "execution_count": 2,
   "metadata": {},
   "outputs": [],
   "source": [
    "# import warnings\n",
    "# warnings.filterwarnings('ignore')"
   ]
  },
  {
   "cell_type": "markdown",
   "metadata": {
    "colab_type": "text",
    "id": "oxQxCBWyoGPE"
   },
   "source": [
    "## Data Preprocessing"
   ]
  },
  {
   "cell_type": "markdown",
   "metadata": {
    "colab_type": "text",
    "id": "y8K74-1foOic"
   },
   "source": [
    "### Generating images for the Training set"
   ]
  },
  {
   "cell_type": "code",
   "execution_count": 3,
   "metadata": {
    "colab": {},
    "colab_type": "code",
    "id": "OlH2WYQ5ocVO"
   },
   "outputs": [],
   "source": [
    "train_datagen = ImageDataGenerator(rescale = 1./255,\n",
    "                                   shear_range = 0.2,\n",
    "                                   zoom_range = 0.2,\n",
    "                                   horizontal_flip = True)"
   ]
  },
  {
   "cell_type": "markdown",
   "metadata": {
    "colab_type": "text",
    "id": "LXXei7qHornJ"
   },
   "source": [
    "### Generating images for the Test set"
   ]
  },
  {
   "cell_type": "code",
   "execution_count": 4,
   "metadata": {
    "colab": {},
    "colab_type": "code",
    "id": "T9It49laowGX"
   },
   "outputs": [],
   "source": [
    "test_datagen = ImageDataGenerator(rescale = 1./255)"
   ]
  },
  {
   "cell_type": "markdown",
   "metadata": {
    "colab_type": "text",
    "id": "MvE-heJNo3GG"
   },
   "source": [
    "### Creating the Training set"
   ]
  },
  {
   "cell_type": "code",
   "execution_count": 5,
   "metadata": {
    "colab": {
     "base_uri": "https://localhost:8080/",
     "height": 34
    },
    "colab_type": "code",
    "executionInfo": {
     "elapsed": 2544,
     "status": "ok",
     "timestamp": 1586435320043,
     "user": {
      "displayName": "Hadelin de Ponteves",
      "photoUrl": "https://lh3.googleusercontent.com/a-/AOh14GhEuXdT7eQweUmRPW8_laJuPggSK6hfvpl5a6WBaA=s64",
      "userId": "15047218817161520419"
     },
     "user_tz": -240
    },
    "id": "0koUcJMJpEBD",
    "outputId": "9d177ed1-04eb-4b72-a6f6-d9da3528fb20"
   },
   "outputs": [
    {
     "name": "stdout",
     "output_type": "stream",
     "text": [
      "Found 8000 images belonging to 2 classes.\n"
     ]
    }
   ],
   "source": [
    "training_set = train_datagen.flow_from_directory('dataset/training_set',\n",
    "                                                 target_size = (64, 64),\n",
    "                                                 class_mode = 'binary')"
   ]
  },
  {
   "cell_type": "markdown",
   "metadata": {
    "colab_type": "text",
    "id": "mrCMmGw9pHys"
   },
   "source": [
    "### Creating the Test set"
   ]
  },
  {
   "cell_type": "code",
   "execution_count": 6,
   "metadata": {
    "colab": {
     "base_uri": "https://localhost:8080/",
     "height": 34
    },
    "colab_type": "code",
    "executionInfo": {
     "elapsed": 2543,
     "status": "ok",
     "timestamp": 1586435320044,
     "user": {
      "displayName": "Hadelin de Ponteves",
      "photoUrl": "https://lh3.googleusercontent.com/a-/AOh14GhEuXdT7eQweUmRPW8_laJuPggSK6hfvpl5a6WBaA=s64",
      "userId": "15047218817161520419"
     },
     "user_tz": -240
    },
    "id": "SH4WzfOhpKc3",
    "outputId": "ea549ecd-e7b7-408c-df58-cbbf77fb58db"
   },
   "outputs": [
    {
     "name": "stdout",
     "output_type": "stream",
     "text": [
      "Found 2000 images belonging to 2 classes.\n"
     ]
    }
   ],
   "source": [
    "test_set = test_datagen.flow_from_directory('dataset/test_set',\n",
    "                                            target_size = (64, 64),\n",
    "                                            class_mode = 'binary')"
   ]
  },
  {
   "cell_type": "markdown",
   "metadata": {
    "colab_type": "text",
    "id": "af8O4l90gk7B"
   },
   "source": [
    "## Building the CNN"
   ]
  },
  {
   "cell_type": "markdown",
   "metadata": {
    "colab_type": "text",
    "id": "ces1gXY2lmoX"
   },
   "source": [
    "### Initialising the CNN"
   ]
  },
  {
   "cell_type": "code",
   "execution_count": 7,
   "metadata": {
    "colab": {},
    "colab_type": "code",
    "id": "SAUt4UMPlhLS"
   },
   "outputs": [],
   "source": [
    "cnn = tf.keras.models.Sequential()"
   ]
  },
  {
   "cell_type": "markdown",
   "metadata": {
    "colab_type": "text",
    "id": "u5YJj_XMl5LF"
   },
   "source": [
    "### Convolution"
   ]
  },
  {
   "cell_type": "code",
   "execution_count": 8,
   "metadata": {
    "colab": {},
    "colab_type": "code",
    "id": "XPzPrMckl-hV"
   },
   "outputs": [],
   "source": [
    "cnn.add(tf.keras.layers.Conv2D(filters=32, kernel_size=3, padding=\"same\", activation=\"relu\", input_shape=[64, 64, 3]))"
   ]
  },
  {
   "cell_type": "markdown",
   "metadata": {
    "colab_type": "text",
    "id": "tf87FpvxmNOJ"
   },
   "source": [
    "### Pooling"
   ]
  },
  {
   "cell_type": "code",
   "execution_count": 9,
   "metadata": {
    "colab": {},
    "colab_type": "code",
    "id": "ncpqPl69mOac"
   },
   "outputs": [],
   "source": [
    "cnn.add(tf.keras.layers.MaxPool2D(pool_size=2, strides=2, padding='valid'))"
   ]
  },
  {
   "cell_type": "markdown",
   "metadata": {
    "colab_type": "text",
    "id": "xaTOgD8rm4mU"
   },
   "source": [
    "### Adding another convolutional layers"
   ]
  },
  {
   "cell_type": "code",
   "execution_count": 10,
   "metadata": {
    "colab": {},
    "colab_type": "code",
    "id": "i_-FZjn_m8gk"
   },
   "outputs": [],
   "source": [
    "#to improve accuracy\n",
    "cnn.add(tf.keras.layers.Conv2D(filters=32, kernel_size=3, padding=\"same\", activation=\"relu\"))\n",
    "cnn.add(tf.keras.layers.MaxPool2D(pool_size=2, strides=2, padding='valid'))\n",
    "\n",
    "#to improve accuracy\n",
    "cnn.add(tf.keras.layers.Conv2D(filters=32, kernel_size=3, padding=\"same\", activation=\"relu\"))\n",
    "cnn.add(tf.keras.layers.MaxPool2D(pool_size=2, strides=2, padding='valid'))\n",
    "\n"
   ]
  },
  {
   "cell_type": "markdown",
   "metadata": {
    "colab_type": "text",
    "id": "tmiEuvTunKfk"
   },
   "source": [
    "### Flattening"
   ]
  },
  {
   "cell_type": "code",
   "execution_count": 11,
   "metadata": {
    "colab": {},
    "colab_type": "code",
    "id": "6AZeOGCvnNZn"
   },
   "outputs": [],
   "source": [
    "cnn.add(tf.keras.layers.Flatten())"
   ]
  },
  {
   "cell_type": "markdown",
   "metadata": {
    "colab_type": "text",
    "id": "dAoSECOm203v"
   },
   "source": [
    "### Full Connection"
   ]
  },
  {
   "cell_type": "code",
   "execution_count": 12,
   "metadata": {
    "colab": {},
    "colab_type": "code",
    "id": "8GtmUlLd26Nq"
   },
   "outputs": [],
   "source": [
    "cnn.add(tf.keras.layers.Dense(units=128, activation='relu'))\n",
    "# cnn.add(tf.keras.layers.Dense(units=128, activation='relu'))"
   ]
  },
  {
   "cell_type": "markdown",
   "metadata": {
    "colab_type": "text",
    "id": "yTldFvbX28Na"
   },
   "source": [
    "### Output Layer"
   ]
  },
  {
   "cell_type": "code",
   "execution_count": 13,
   "metadata": {
    "colab": {},
    "colab_type": "code",
    "id": "1p_Zj1Mc3Ko_"
   },
   "outputs": [],
   "source": [
    "cnn.add(tf.keras.layers.Dense(units=1, activation='sigmoid'))"
   ]
  },
  {
   "cell_type": "markdown",
   "metadata": {
    "colab_type": "text",
    "id": "D6XkI90snSDl"
   },
   "source": [
    "## Training the CNN"
   ]
  },
  {
   "cell_type": "markdown",
   "metadata": {
    "colab_type": "text",
    "id": "vfrFQACEnc6i"
   },
   "source": [
    "### Compiling the CNN"
   ]
  },
  {
   "cell_type": "code",
   "execution_count": 14,
   "metadata": {
    "colab": {},
    "colab_type": "code",
    "id": "NALksrNQpUlJ"
   },
   "outputs": [],
   "source": [
    "cnn.compile(optimizer = 'adam', loss = 'binary_crossentropy', metrics = ['accuracy'])"
   ]
  },
  {
   "cell_type": "markdown",
   "metadata": {
    "colab_type": "text",
    "id": "ehS-v3MIpX2h"
   },
   "source": [
    "### Training the CNN on the Training set and evaluating it on the Test set"
   ]
  },
  {
   "cell_type": "code",
   "execution_count": 15,
   "metadata": {},
   "outputs": [
    {
     "name": "stdout",
     "output_type": "stream",
     "text": [
      "WARNING:tensorflow:sample_weight modes were coerced from\n",
      "  ...\n",
      "    to  \n",
      "  ['...']\n",
      "WARNING:tensorflow:sample_weight modes were coerced from\n",
      "  ...\n",
      "    to  \n",
      "  ['...']\n",
      "Train for 250 steps, validate for 63 steps\n",
      "Epoch 1/25\n",
      "250/250 [==============================] - 84s 334ms/step - loss: 0.6692 - accuracy: 0.5780 - val_loss: 0.6062 - val_accuracy: 0.6750\n",
      "Epoch 2/25\n",
      "250/250 [==============================] - 79s 317ms/step - loss: 0.5923 - accuracy: 0.6881 - val_loss: 0.5527 - val_accuracy: 0.7185\n",
      "Epoch 3/25\n",
      "250/250 [==============================] - 79s 317ms/step - loss: 0.5618 - accuracy: 0.7055 - val_loss: 0.5706 - val_accuracy: 0.7000\n",
      "Epoch 4/25\n",
      "250/250 [==============================] - 80s 320ms/step - loss: 0.5251 - accuracy: 0.7410 - val_loss: 0.5022 - val_accuracy: 0.7545\n",
      "Epoch 5/25\n",
      "250/250 [==============================] - 80s 319ms/step - loss: 0.4954 - accuracy: 0.7527 - val_loss: 0.4946 - val_accuracy: 0.7585\n",
      "Epoch 6/25\n",
      "250/250 [==============================] - 79s 317ms/step - loss: 0.4716 - accuracy: 0.7747 - val_loss: 0.5169 - val_accuracy: 0.7610\n",
      "Epoch 7/25\n",
      "250/250 [==============================] - 80s 318ms/step - loss: 0.4579 - accuracy: 0.7810 - val_loss: 0.5075 - val_accuracy: 0.7470\n",
      "Epoch 8/25\n",
      "250/250 [==============================] - 80s 319ms/step - loss: 0.4436 - accuracy: 0.7905 - val_loss: 0.4402 - val_accuracy: 0.7940\n",
      "Epoch 9/25\n",
      "250/250 [==============================] - 79s 317ms/step - loss: 0.4276 - accuracy: 0.8046 - val_loss: 0.4598 - val_accuracy: 0.7795\n",
      "Epoch 10/25\n",
      "250/250 [==============================] - 80s 319ms/step - loss: 0.4242 - accuracy: 0.8024 - val_loss: 0.4333 - val_accuracy: 0.7980\n",
      "Epoch 11/25\n",
      "250/250 [==============================] - 80s 321ms/step - loss: 0.3980 - accuracy: 0.8204 - val_loss: 0.4483 - val_accuracy: 0.8115\n",
      "Epoch 12/25\n",
      "250/250 [==============================] - 80s 318ms/step - loss: 0.3936 - accuracy: 0.8195 - val_loss: 0.4347 - val_accuracy: 0.7900\n",
      "Epoch 13/25\n",
      "250/250 [==============================] - 79s 317ms/step - loss: 0.3828 - accuracy: 0.8285 - val_loss: 0.4097 - val_accuracy: 0.8095\n",
      "Epoch 14/25\n",
      "250/250 [==============================] - 80s 319ms/step - loss: 0.3638 - accuracy: 0.8388 - val_loss: 0.3949 - val_accuracy: 0.8200\n",
      "Epoch 15/25\n",
      "250/250 [==============================] - 80s 318ms/step - loss: 0.3576 - accuracy: 0.8386 - val_loss: 0.4325 - val_accuracy: 0.8165\n",
      "Epoch 16/25\n",
      "250/250 [==============================] - 79s 316ms/step - loss: 0.3475 - accuracy: 0.8460 - val_loss: 0.4012 - val_accuracy: 0.8065\n",
      "Epoch 17/25\n",
      "250/250 [==============================] - 80s 319ms/step - loss: 0.3526 - accuracy: 0.8414 - val_loss: 0.4051 - val_accuracy: 0.8105\n",
      "Epoch 18/25\n",
      "250/250 [==============================] - 80s 319ms/step - loss: 0.3284 - accuracy: 0.8519 - val_loss: 0.3900 - val_accuracy: 0.8290\n",
      "Epoch 19/25\n",
      "250/250 [==============================] - 80s 320ms/step - loss: 0.3245 - accuracy: 0.8589 - val_loss: 0.3933 - val_accuracy: 0.8290\n",
      "Epoch 20/25\n",
      "250/250 [==============================] - 79s 318ms/step - loss: 0.3117 - accuracy: 0.8633 - val_loss: 0.4240 - val_accuracy: 0.8180\n",
      "Epoch 21/25\n",
      "250/250 [==============================] - 80s 319ms/step - loss: 0.3131 - accuracy: 0.8629 - val_loss: 0.3894 - val_accuracy: 0.8345\n",
      "Epoch 22/25\n",
      "250/250 [==============================] - 80s 319ms/step - loss: 0.2888 - accuracy: 0.8737 - val_loss: 0.4362 - val_accuracy: 0.8230\n",
      "Epoch 23/25\n",
      "250/250 [==============================] - 80s 319ms/step - loss: 0.2797 - accuracy: 0.8813 - val_loss: 0.3967 - val_accuracy: 0.8280\n",
      "Epoch 24/25\n",
      "250/250 [==============================] - 79s 318ms/step - loss: 0.2697 - accuracy: 0.8879 - val_loss: 0.3888 - val_accuracy: 0.8255\n",
      "Epoch 25/25\n",
      "250/250 [==============================] - 79s 317ms/step - loss: 0.2602 - accuracy: 0.8895 - val_loss: 0.4923 - val_accuracy: 0.8085\n"
     ]
    },
    {
     "data": {
      "text/plain": [
       "<tensorflow.python.keras.callbacks.History at 0x14cfd45f788>"
      ]
     },
     "execution_count": 15,
     "metadata": {},
     "output_type": "execute_result"
    }
   ],
   "source": [
    "cnn.fit(\n",
    "        x=training_set,\n",
    "        epochs=25,\n",
    "        validation_data=test_set,\n",
    "        validation_steps=len(test_set))"
   ]
  },
  {
   "cell_type": "markdown",
   "metadata": {},
   "source": [
    "## Predicting unseen Images"
   ]
  },
  {
   "cell_type": "code",
   "execution_count": 16,
   "metadata": {},
   "outputs": [],
   "source": [
    "import numpy as np\n",
    "from keras.preprocessing import image"
   ]
  },
  {
   "cell_type": "code",
   "execution_count": 17,
   "metadata": {},
   "outputs": [],
   "source": [
    "def predict_img(img_path):\n",
    "    test_image=image.load_img(img_path,target_size=(64,64,3))\n",
    "    test_image=image.img_to_array(test_image)\n",
    "    test_image=np.expand_dims(test_image,axis=0)\n",
    "    result=cnn.predict(test_image)\n",
    "    training_set.class_indices\n",
    "    if result[0][0]==1:\n",
    "        prediction ='Dog..!!'\n",
    "    else:\n",
    "        prediction='Cat..!!'\n",
    "    print(prediction)"
   ]
  },
  {
   "cell_type": "markdown",
   "metadata": {},
   "source": [
    "![](dataset/single_prediction/cat_or_dog_1.jpg)"
   ]
  },
  {
   "cell_type": "code",
   "execution_count": 18,
   "metadata": {},
   "outputs": [
    {
     "name": "stdout",
     "output_type": "stream",
     "text": [
      "Cat..!!\n"
     ]
    }
   ],
   "source": [
    "predict_img(img_path='dataset/single_prediction/cat_or_dog_1.jpg')"
   ]
  },
  {
   "cell_type": "markdown",
   "metadata": {},
   "source": [
    "![](dataset/single_prediction/cat_or_dog_2.jpg)"
   ]
  },
  {
   "cell_type": "code",
   "execution_count": 19,
   "metadata": {},
   "outputs": [
    {
     "name": "stdout",
     "output_type": "stream",
     "text": [
      "Cat..!!\n"
     ]
    }
   ],
   "source": [
    "predict_img(img_path='dataset/single_prediction/cat_or_dog_2.jpg')"
   ]
  },
  {
   "cell_type": "markdown",
   "metadata": {},
   "source": [
    "![](dataset/single_prediction/cat_or_dog_7.jpg)"
   ]
  },
  {
   "cell_type": "code",
   "execution_count": 20,
   "metadata": {},
   "outputs": [
    {
     "name": "stdout",
     "output_type": "stream",
     "text": [
      "Dog..!!\n"
     ]
    }
   ],
   "source": [
    "predict_img(img_path='dataset/single_prediction/cat_or_dog_7.jpg')"
   ]
  },
  {
   "cell_type": "markdown",
   "metadata": {},
   "source": [
    "![](dataset/single_prediction/cat_or_dog_5.jpg)"
   ]
  },
  {
   "cell_type": "code",
   "execution_count": 21,
   "metadata": {},
   "outputs": [
    {
     "name": "stdout",
     "output_type": "stream",
     "text": [
      "Dog..!!\n"
     ]
    }
   ],
   "source": [
    "predict_img(img_path='dataset/single_prediction/cat_or_dog_5.jpg')"
   ]
  },
  {
   "cell_type": "markdown",
   "metadata": {},
   "source": [
    "![](dataset/single_prediction/cat_or_dog_4.jpg)"
   ]
  },
  {
   "cell_type": "code",
   "execution_count": 22,
   "metadata": {},
   "outputs": [
    {
     "name": "stdout",
     "output_type": "stream",
     "text": [
      "Cat..!!\n"
     ]
    }
   ],
   "source": [
    "predict_img(img_path='dataset/single_prediction/cat_or_dog_4.jpg')"
   ]
  },
  {
   "cell_type": "markdown",
   "metadata": {},
   "source": [
    "![](dataset/single_prediction/cat_or_dog_6.jpg)"
   ]
  },
  {
   "cell_type": "code",
   "execution_count": 23,
   "metadata": {},
   "outputs": [
    {
     "name": "stdout",
     "output_type": "stream",
     "text": [
      "Dog..!!\n"
     ]
    }
   ],
   "source": [
    "predict_img(img_path='dataset/single_prediction/cat_or_dog_6.jpg')"
   ]
  },
  {
   "cell_type": "markdown",
   "metadata": {},
   "source": [
    "![](dataset/single_prediction/cat_or_dog_8.jpg)"
   ]
  },
  {
   "cell_type": "code",
   "execution_count": 24,
   "metadata": {},
   "outputs": [
    {
     "name": "stdout",
     "output_type": "stream",
     "text": [
      "Dog..!!\n"
     ]
    }
   ],
   "source": [
    "predict_img(img_path='dataset/single_prediction/cat_or_dog_8.jpg')"
   ]
  },
  {
   "cell_type": "markdown",
   "metadata": {},
   "source": [
    "![](dataset/single_prediction/cat_or_dog_10.jpg)"
   ]
  },
  {
   "cell_type": "code",
   "execution_count": 25,
   "metadata": {},
   "outputs": [
    {
     "name": "stdout",
     "output_type": "stream",
     "text": [
      "Dog..!!\n"
     ]
    }
   ],
   "source": [
    "predict_img(img_path='dataset/single_prediction/cat_or_dog_10.jpg')"
   ]
  },
  {
   "cell_type": "markdown",
   "metadata": {},
   "source": [
    "![](dataset/single_prediction/cat_or_dog_9.jpg)"
   ]
  },
  {
   "cell_type": "code",
   "execution_count": 26,
   "metadata": {},
   "outputs": [
    {
     "name": "stdout",
     "output_type": "stream",
     "text": [
      "Cat..!!\n"
     ]
    }
   ],
   "source": [
    "predict_img(img_path='dataset/single_prediction/cat_or_dog_9.jpg')"
   ]
  },
  {
   "cell_type": "markdown",
   "metadata": {},
   "source": [
    "![](dataset/single_prediction/cat_or_dog_3.jpg)"
   ]
  },
  {
   "cell_type": "code",
   "execution_count": 28,
   "metadata": {},
   "outputs": [
    {
     "name": "stdout",
     "output_type": "stream",
     "text": [
      "Cat..!!\n"
     ]
    }
   ],
   "source": [
    "predict_img(img_path='dataset/single_prediction/cat_or_dog_3.jpg')"
   ]
  }
 ],
 "metadata": {
  "colab": {
   "authorship_tag": "ABX9TyN4RwM22jdD+NwpsDagcktL",
   "collapsed_sections": [],
   "name": "Convolutional Neural Network",
   "provenance": [],
   "toc_visible": true
  },
  "kernelspec": {
   "display_name": "Python 3",
   "language": "python",
   "name": "python3"
  },
  "language_info": {
   "codemirror_mode": {
    "name": "ipython",
    "version": 3
   },
   "file_extension": ".py",
   "mimetype": "text/x-python",
   "name": "python",
   "nbconvert_exporter": "python",
   "pygments_lexer": "ipython3",
   "version": "3.7.4"
  }
 },
 "nbformat": 4,
 "nbformat_minor": 1
}
